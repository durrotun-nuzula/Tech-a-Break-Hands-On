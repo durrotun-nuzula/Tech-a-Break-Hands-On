{
 "cells": [
  {
   "cell_type": "markdown",
   "metadata": {},
   "source": [
    "# Let's Start"
   ]
  },
  {
   "cell_type": "code",
   "execution_count": 77,
   "metadata": {},
   "outputs": [],
   "source": [
    "import pandas as pd\n",
    "import matplotlib.pyplot as plt\n",
    "plt.style.use('ggplot')"
   ]
  },
  {
   "cell_type": "code",
   "execution_count": 78,
   "metadata": {},
   "outputs": [],
   "source": [
    "#display maximum column and rows\n",
    "pd.options.display.max_columns = 999\n",
    "pd.options.display.max_rows = 999"
   ]
  },
  {
   "cell_type": "code",
   "execution_count": 79,
   "metadata": {},
   "outputs": [],
   "source": [
    "#read the data from csv file\n",
    "df = pd.read_excel(\"hands_on.xlsx\", sheet_name='Sheet1')"
   ]
  },
  {
   "cell_type": "code",
   "execution_count": 80,
   "metadata": {},
   "outputs": [
    {
     "data": {
      "text/html": [
       "<div>\n",
       "<style scoped>\n",
       "    .dataframe tbody tr th:only-of-type {\n",
       "        vertical-align: middle;\n",
       "    }\n",
       "\n",
       "    .dataframe tbody tr th {\n",
       "        vertical-align: top;\n",
       "    }\n",
       "\n",
       "    .dataframe thead th {\n",
       "        text-align: right;\n",
       "    }\n",
       "</style>\n",
       "<table border=\"1\" class=\"dataframe\">\n",
       "  <thead>\n",
       "    <tr style=\"text-align: right;\">\n",
       "      <th></th>\n",
       "      <th>id_event</th>\n",
       "      <th>invoice_date</th>\n",
       "      <th>Sold</th>\n",
       "      <th>Transaction</th>\n",
       "      <th>event_start_date</th>\n",
       "      <th>event_end_date</th>\n",
       "      <th>status_event</th>\n",
       "      <th>Ratio</th>\n",
       "    </tr>\n",
       "  </thead>\n",
       "  <tbody>\n",
       "    <tr>\n",
       "      <th>0</th>\n",
       "      <td>5016</td>\n",
       "      <td>2018-09-10</td>\n",
       "      <td>2555</td>\n",
       "      <td>2555.0</td>\n",
       "      <td>2018-12-09</td>\n",
       "      <td>2018-12-09</td>\n",
       "      <td>Past Event</td>\n",
       "      <td>0.174224</td>\n",
       "    </tr>\n",
       "    <tr>\n",
       "      <th>1</th>\n",
       "      <td>5016</td>\n",
       "      <td>2018-09-11</td>\n",
       "      <td>2308</td>\n",
       "      <td>2308.0</td>\n",
       "      <td>2018-12-09</td>\n",
       "      <td>2018-12-09</td>\n",
       "      <td>Past Event</td>\n",
       "      <td>0.157382</td>\n",
       "    </tr>\n",
       "    <tr>\n",
       "      <th>2</th>\n",
       "      <td>5016</td>\n",
       "      <td>2018-09-12</td>\n",
       "      <td>1328</td>\n",
       "      <td>780.0</td>\n",
       "      <td>2018-12-09</td>\n",
       "      <td>2018-12-09</td>\n",
       "      <td>Past Event</td>\n",
       "      <td>0.090556</td>\n",
       "    </tr>\n",
       "    <tr>\n",
       "      <th>3</th>\n",
       "      <td>5016</td>\n",
       "      <td>2018-09-13</td>\n",
       "      <td>1290</td>\n",
       "      <td>306.0</td>\n",
       "      <td>2018-12-09</td>\n",
       "      <td>2018-12-09</td>\n",
       "      <td>Past Event</td>\n",
       "      <td>0.087965</td>\n",
       "    </tr>\n",
       "    <tr>\n",
       "      <th>4</th>\n",
       "      <td>5016</td>\n",
       "      <td>2018-09-14</td>\n",
       "      <td>1176</td>\n",
       "      <td>204.0</td>\n",
       "      <td>2018-12-09</td>\n",
       "      <td>2018-12-09</td>\n",
       "      <td>Past Event</td>\n",
       "      <td>0.080191</td>\n",
       "    </tr>\n",
       "  </tbody>\n",
       "</table>\n",
       "</div>"
      ],
      "text/plain": [
       "   id_event invoice_date  Sold  Transaction event_start_date event_end_date  \\\n",
       "0      5016   2018-09-10  2555       2555.0       2018-12-09     2018-12-09   \n",
       "1      5016   2018-09-11  2308       2308.0       2018-12-09     2018-12-09   \n",
       "2      5016   2018-09-12  1328        780.0       2018-12-09     2018-12-09   \n",
       "3      5016   2018-09-13  1290        306.0       2018-12-09     2018-12-09   \n",
       "4      5016   2018-09-14  1176        204.0       2018-12-09     2018-12-09   \n",
       "\n",
       "  status_event     Ratio  \n",
       "0   Past Event  0.174224  \n",
       "1   Past Event  0.157382  \n",
       "2   Past Event  0.090556  \n",
       "3   Past Event  0.087965  \n",
       "4   Past Event  0.080191  "
      ]
     },
     "execution_count": 80,
     "metadata": {},
     "output_type": "execute_result"
    }
   ],
   "source": [
    "df.head()"
   ]
  },
  {
   "cell_type": "code",
   "execution_count": 81,
   "metadata": {},
   "outputs": [
    {
     "name": "stdout",
     "output_type": "stream",
     "text": [
      "<class 'pandas.core.frame.DataFrame'>\n",
      "RangeIndex: 210 entries, 0 to 209\n",
      "Data columns (total 8 columns):\n",
      "id_event            210 non-null int64\n",
      "invoice_date        210 non-null datetime64[ns]\n",
      "Sold                210 non-null int64\n",
      "Transaction         210 non-null float64\n",
      "event_start_date    210 non-null datetime64[ns]\n",
      "event_end_date      210 non-null datetime64[ns]\n",
      "status_event        210 non-null object\n",
      "Ratio               210 non-null float64\n",
      "dtypes: datetime64[ns](3), float64(2), int64(2), object(1)\n",
      "memory usage: 13.2+ KB\n"
     ]
    }
   ],
   "source": [
    "#check the data type\n",
    "df.info()"
   ]
  },
  {
   "cell_type": "code",
   "execution_count": 82,
   "metadata": {},
   "outputs": [
    {
     "data": {
      "text/plain": [
       "status_event\n",
       "Active Event          [21450]\n",
       "Past Event      [5016, 11179]\n",
       "Name: id_event, dtype: object"
      ]
     },
     "execution_count": 82,
     "metadata": {},
     "output_type": "execute_result"
    }
   ],
   "source": [
    "#check categorical type\n",
    "df.groupby('status_event')['id_event'].unique()"
   ]
  },
  {
   "cell_type": "code",
   "execution_count": 83,
   "metadata": {},
   "outputs": [],
   "source": [
    "# Extract event needed\n",
    "event_A = df[df.id_event == 5016].reset_index()\n",
    "event_B = df[df.id_event == 11179].reset_index()\n",
    "event_C = df[df.id_event == 21450].reset_index()"
   ]
  },
  {
   "cell_type": "code",
   "execution_count": 84,
   "metadata": {},
   "outputs": [
    {
     "data": {
      "text/plain": [
       "Text(0, 0.5, 'Ratio')"
      ]
     },
     "execution_count": 84,
     "metadata": {},
     "output_type": "execute_result"
    },
    {
     "data": {
      "image/png": "[encoded data removed]",
      "text/plain": [
       "<Figure size 432x288 with 1 Axes>"
      ]
     },
     "metadata": {},
     "output_type": "display_data"
    }
   ],
   "source": [
    "event_A.Ratio.plot.line(title='Event A Sales Ratio')\n",
    "plt.xlabel('Day')\n",
    "plt.ylabel('Ratio')"
   ]
  },
  {
   "cell_type": "code",
   "execution_count": 85,
   "metadata": {},
   "outputs": [
    {
     "data": {
      "text/plain": [
       "Text(0, 0.5, 'Ratio')"
      ]
     },
     "execution_count": 85,
     "metadata": {},
     "output_type": "execute_result"
    },
    {
     "data": {
      "image/png": "[encoded data removed]",
      "text/plain": [
       "<Figure size 432x288 with 1 Axes>"
      ]
     },
     "metadata": {},
     "output_type": "display_data"
    }
   ],
   "source": [
    "event_B.Ratio.plot.line(title='Event B Sales Ratio')\n",
    "plt.xlabel('Day')\n",
    "plt.ylabel('Ratio')"
   ]
  },
  {
   "cell_type": "code",
   "execution_count": 86,
   "metadata": {},
   "outputs": [
    {
     "data": {
      "text/plain": [
       "Text(0, 0.5, 'Ratio')"
      ]
     },
     "execution_count": 86,
     "metadata": {},
     "output_type": "execute_result"
    },
    {
     "data": {
      "image/png": "[encoded data removed]",
      "text/plain": [
       "<Figure size 432x288 with 1 Axes>"
      ]
     },
     "metadata": {},
     "output_type": "display_data"
    }
   ],
   "source": [
    "event_C.Ratio.plot.line(title='Event C Current Sales Ratio' )\n",
    "plt.xlabel('Day')\n",
    "plt.ylabel('Ratio')"
   ]
  },
  {
   "cell_type": "markdown",
   "metadata": {},
   "source": [
    "### How we can project the data ?"
   ]
  },
  {
   "cell_type": "code",
   "execution_count": 97,
   "metadata": {},
   "outputs": [],
   "source": [
    "event_C['invoice_date'] = pd.to_datetime(event_C['invoice_date']).dt.date\n",
    "event_C['event_start_date'] = pd.to_datetime(event_C['event_start_date']).dt.date\n",
    "event_C['event_end_date'] = pd.to_datetime(event_C['event_end_date']).dt.date"
   ]
  },
  {
   "cell_type": "code",
   "execution_count": 104,
   "metadata": {},
   "outputs": [
    {
     "data": {
      "text/plain": [
       "Text(0, 0.5, 'Ratio')"
      ]
     },
     "execution_count": 104,
     "metadata": {},
     "output_type": "execute_result"
    },
    {
     "data": {
      "image/png": "[encoded data removed]",
      "text/plain": [
       "<Figure size 720x360 with 1 Axes>"
      ]
     },
     "metadata": {},
     "output_type": "display_data"
    }
   ],
   "source": [
    "# let's take a look at the sales\n",
    "event_C.plot.line('invoice_date', 'Ratio', figsize=(10,5), title='Event C Current Sales' )\n",
    "plt.ylabel('Ratio')"
   ]
  },
  {
   "cell_type": "code",
   "execution_count": 116,
   "metadata": {},
   "outputs": [
    {
     "data": {
      "text/plain": [
       "1"
      ]
     },
     "execution_count": 116,
     "metadata": {},
     "output_type": "execute_result"
    }
   ],
   "source": [
    "event_C.event_end_date.nunique()"
   ]
  },
  {
   "cell_type": "code",
   "execution_count": 115,
   "metadata": {},
   "outputs": [
    {
     "name": "stdout",
     "output_type": "stream",
     "text": [
      "start event date = 2020-06-27\n",
      "start end date = 2020-06-27\n"
     ]
    }
   ],
   "source": [
    "print('start event date =', event_C.event_start_date[0])\n",
    "print('start end date =', event_C.event_end_date[0])"
   ]
  },
  {
   "cell_type": "markdown",
   "metadata": {},
   "source": [
    "we still have 6 months for promotion. what should we do? <br>\n",
    "don't worries ! <br>\n",
    "let's make strategies plan based on data."
   ]
  },
  {
   "cell_type": "code",
   "execution_count": 128,
   "metadata": {},
   "outputs": [],
   "source": [
    "event_C['invoice_day'] = pd.to_datetime(event_C['invoice_date']).dt.weekday"
   ]
  },
  {
   "cell_type": "code",
   "execution_count": 130,
   "metadata": {},
   "outputs": [],
   "source": [
    "event_C['invoice_weeekday'] = event_C.invoice_day.replace({0: 'Monday', \n",
    "                                                           1: 'Tuesday', \n",
    "                                                           2: 'Wednesday', \n",
    "                                                           3: 'Thursday', \n",
    "                                                           4: 'Friday', \n",
    "                                                           5: 'Saturday', \n",
    "                                                           6: 'Sunday'})"
   ]
  },
  {
   "cell_type": "code",
   "execution_count": 132,
   "metadata": {},
   "outputs": [
    {
     "data": {
      "text/plain": [
       "invoice_weeekday\n",
       "Friday        381.0\n",
       "Monday       3806.0\n",
       "Saturday      362.0\n",
       "Sunday        255.0\n",
       "Thursday      421.0\n",
       "Tuesday      1135.0\n",
       "Wednesday     811.0\n",
       "Name: Transaction, dtype: float64"
      ]
     },
     "execution_count": 132,
     "metadata": {},
     "output_type": "execute_result"
    }
   ],
   "source": [
    "event_C.groupby(['invoice_weeekday'])['Transaction'].sum()"
   ]
  },
  {
   "cell_type": "code",
   "execution_count": 137,
   "metadata": {},
   "outputs": [
    {
     "data": {
      "text/plain": [
       "Text(0, 0.5, 'days')"
      ]
     },
     "execution_count": 137,
     "metadata": {},
     "output_type": "execute_result"
    },
    {
     "data": {
      "image/png": "[encoded data removed]",
      "text/plain": [
       "<Figure size 432x288 with 1 Axes>"
      ]
     },
     "metadata": {},
     "output_type": "display_data"
    }
   ],
   "source": [
    "event_C.groupby(['invoice_weeekday'])[['Transaction','Sold']].sum().plot.barh()\n",
    "plt.xlabel('# Transaction')\n",
    "plt.ylabel('days')"
   ]
  },
  {
   "cell_type": "code",
   "execution_count": 172,
   "metadata": {},
   "outputs": [
    {
     "data": {
      "text/plain": [
       "Text(0, 0.5, 'days')"
      ]
     },
     "execution_count": 172,
     "metadata": {},
     "output_type": "execute_result"
    },
    {
     "data": {
      "image/png": "[encoded data removed]",
      "text/plain": [
       "<Figure size 432x288 with 1 Axes>"
      ]
     },
     "metadata": {},
     "output_type": "display_data"
    }
   ],
   "source": [
    "event_C[3:].groupby(['invoice_weeekday'])[['Transaction','Sold']].sum().plot.barh()\n",
    "plt.xlabel('# Transaction')\n",
    "plt.ylabel('days')"
   ]
  },
  {
   "cell_type": "code",
   "execution_count": 173,
   "metadata": {},
   "outputs": [
    {
     "data": {
      "text/html": [
       "<div>\n",
       "<style scoped>\n",
       "    .dataframe tbody tr th:only-of-type {\n",
       "        vertical-align: middle;\n",
       "    }\n",
       "\n",
       "    .dataframe tbody tr th {\n",
       "        vertical-align: top;\n",
       "    }\n",
       "\n",
       "    .dataframe thead th {\n",
       "        text-align: right;\n",
       "    }\n",
       "</style>\n",
       "<table border=\"1\" class=\"dataframe\">\n",
       "  <thead>\n",
       "    <tr style=\"text-align: right;\">\n",
       "      <th></th>\n",
       "      <th>index</th>\n",
       "      <th>id_event</th>\n",
       "      <th>invoice_date</th>\n",
       "      <th>Sold</th>\n",
       "      <th>Transaction</th>\n",
       "      <th>event_start_date</th>\n",
       "      <th>event_end_date</th>\n",
       "      <th>status_event</th>\n",
       "      <th>Ratio</th>\n",
       "      <th>invoice_month</th>\n",
       "      <th>invoice_day</th>\n",
       "      <th>invoice_weeekday</th>\n",
       "    </tr>\n",
       "  </thead>\n",
       "  <tbody>\n",
       "    <tr>\n",
       "      <th>0</th>\n",
       "      <td>180</td>\n",
       "      <td>21450</td>\n",
       "      <td>2019-12-02</td>\n",
       "      <td>7584</td>\n",
       "      <td>3467.0</td>\n",
       "      <td>2020-06-27</td>\n",
       "      <td>2020-06-27</td>\n",
       "      <td>Active Event</td>\n",
       "      <td>0.30336</td>\n",
       "      <td>12</td>\n",
       "      <td>0</td>\n",
       "      <td>Monday</td>\n",
       "    </tr>\n",
       "    <tr>\n",
       "      <th>1</th>\n",
       "      <td>181</td>\n",
       "      <td>21450</td>\n",
       "      <td>2019-12-03</td>\n",
       "      <td>1616</td>\n",
       "      <td>766.0</td>\n",
       "      <td>2020-06-27</td>\n",
       "      <td>2020-06-27</td>\n",
       "      <td>Active Event</td>\n",
       "      <td>0.06464</td>\n",
       "      <td>12</td>\n",
       "      <td>1</td>\n",
       "      <td>Tuesday</td>\n",
       "    </tr>\n",
       "    <tr>\n",
       "      <th>2</th>\n",
       "      <td>182</td>\n",
       "      <td>21450</td>\n",
       "      <td>2019-12-04</td>\n",
       "      <td>1394</td>\n",
       "      <td>702.0</td>\n",
       "      <td>2020-06-27</td>\n",
       "      <td>2020-06-27</td>\n",
       "      <td>Active Event</td>\n",
       "      <td>0.05576</td>\n",
       "      <td>12</td>\n",
       "      <td>2</td>\n",
       "      <td>Wednesday</td>\n",
       "    </tr>\n",
       "    <tr>\n",
       "      <th>3</th>\n",
       "      <td>183</td>\n",
       "      <td>21450</td>\n",
       "      <td>2019-12-05</td>\n",
       "      <td>629</td>\n",
       "      <td>321.0</td>\n",
       "      <td>2020-06-27</td>\n",
       "      <td>2020-06-27</td>\n",
       "      <td>Active Event</td>\n",
       "      <td>0.02516</td>\n",
       "      <td>12</td>\n",
       "      <td>3</td>\n",
       "      <td>Thursday</td>\n",
       "    </tr>\n",
       "    <tr>\n",
       "      <th>4</th>\n",
       "      <td>184</td>\n",
       "      <td>21450</td>\n",
       "      <td>2019-12-06</td>\n",
       "      <td>408</td>\n",
       "      <td>206.0</td>\n",
       "      <td>2020-06-27</td>\n",
       "      <td>2020-06-27</td>\n",
       "      <td>Active Event</td>\n",
       "      <td>0.01632</td>\n",
       "      <td>12</td>\n",
       "      <td>4</td>\n",
       "      <td>Friday</td>\n",
       "    </tr>\n",
       "    <tr>\n",
       "      <th>5</th>\n",
       "      <td>185</td>\n",
       "      <td>21450</td>\n",
       "      <td>2019-12-07</td>\n",
       "      <td>390</td>\n",
       "      <td>197.0</td>\n",
       "      <td>2020-06-27</td>\n",
       "      <td>2020-06-27</td>\n",
       "      <td>Active Event</td>\n",
       "      <td>0.01560</td>\n",
       "      <td>12</td>\n",
       "      <td>5</td>\n",
       "      <td>Saturday</td>\n",
       "    </tr>\n",
       "    <tr>\n",
       "      <th>6</th>\n",
       "      <td>186</td>\n",
       "      <td>21450</td>\n",
       "      <td>2019-12-08</td>\n",
       "      <td>260</td>\n",
       "      <td>138.0</td>\n",
       "      <td>2020-06-27</td>\n",
       "      <td>2020-06-27</td>\n",
       "      <td>Active Event</td>\n",
       "      <td>0.01040</td>\n",
       "      <td>12</td>\n",
       "      <td>6</td>\n",
       "      <td>Sunday</td>\n",
       "    </tr>\n",
       "    <tr>\n",
       "      <th>7</th>\n",
       "      <td>187</td>\n",
       "      <td>21450</td>\n",
       "      <td>2019-12-09</td>\n",
       "      <td>261</td>\n",
       "      <td>122.0</td>\n",
       "      <td>2020-06-27</td>\n",
       "      <td>2020-06-27</td>\n",
       "      <td>Active Event</td>\n",
       "      <td>0.01044</td>\n",
       "      <td>12</td>\n",
       "      <td>0</td>\n",
       "      <td>Monday</td>\n",
       "    </tr>\n",
       "    <tr>\n",
       "      <th>8</th>\n",
       "      <td>188</td>\n",
       "      <td>21450</td>\n",
       "      <td>2019-12-10</td>\n",
       "      <td>193</td>\n",
       "      <td>97.0</td>\n",
       "      <td>2020-06-27</td>\n",
       "      <td>2020-06-27</td>\n",
       "      <td>Active Event</td>\n",
       "      <td>0.00772</td>\n",
       "      <td>12</td>\n",
       "      <td>1</td>\n",
       "      <td>Tuesday</td>\n",
       "    </tr>\n",
       "    <tr>\n",
       "      <th>9</th>\n",
       "      <td>189</td>\n",
       "      <td>21450</td>\n",
       "      <td>2019-12-11</td>\n",
       "      <td>95</td>\n",
       "      <td>44.0</td>\n",
       "      <td>2020-06-27</td>\n",
       "      <td>2020-06-27</td>\n",
       "      <td>Active Event</td>\n",
       "      <td>0.00380</td>\n",
       "      <td>12</td>\n",
       "      <td>2</td>\n",
       "      <td>Wednesday</td>\n",
       "    </tr>\n",
       "  </tbody>\n",
       "</table>\n",
       "</div>"
      ],
      "text/plain": [
       "   index  id_event invoice_date  Sold  Transaction event_start_date  \\\n",
       "0    180     21450   2019-12-02  7584       3467.0       2020-06-27   \n",
       "1    181     21450   2019-12-03  1616        766.0       2020-06-27   \n",
       "2    182     21450   2019-12-04  1394        702.0       2020-06-27   \n",
       "3    183     21450   2019-12-05   629        321.0       2020-06-27   \n",
       "4    184     21450   2019-12-06   408        206.0       2020-06-27   \n",
       "5    185     21450   2019-12-07   390        197.0       2020-06-27   \n",
       "6    186     21450   2019-12-08   260        138.0       2020-06-27   \n",
       "7    187     21450   2019-12-09   261        122.0       2020-06-27   \n",
       "8    188     21450   2019-12-10   193         97.0       2020-06-27   \n",
       "9    189     21450   2019-12-11    95         44.0       2020-06-27   \n",
       "\n",
       "  event_end_date  status_event    Ratio  invoice_month  invoice_day  \\\n",
       "0     2020-06-27  Active Event  0.30336             12            0   \n",
       "1     2020-06-27  Active Event  0.06464             12            1   \n",
       "2     2020-06-27  Active Event  0.05576             12            2   \n",
       "3     2020-06-27  Active Event  0.02516             12            3   \n",
       "4     2020-06-27  Active Event  0.01632             12            4   \n",
       "5     2020-06-27  Active Event  0.01560             12            5   \n",
       "6     2020-06-27  Active Event  0.01040             12            6   \n",
       "7     2020-06-27  Active Event  0.01044             12            0   \n",
       "8     2020-06-27  Active Event  0.00772             12            1   \n",
       "9     2020-06-27  Active Event  0.00380             12            2   \n",
       "\n",
       "  invoice_weeekday  \n",
       "0           Monday  \n",
       "1          Tuesday  \n",
       "2        Wednesday  \n",
       "3         Thursday  \n",
       "4           Friday  \n",
       "5         Saturday  \n",
       "6           Sunday  \n",
       "7           Monday  \n",
       "8          Tuesday  \n",
       "9        Wednesday  "
      ]
     },
     "execution_count": 173,
     "metadata": {},
     "output_type": "execute_result"
    }
   ],
   "source": [
    "event_C.head(10)"
   ]
  },
  {
   "cell_type": "code",
   "execution_count": 174,
   "metadata": {},
   "outputs": [],
   "source": [
    "week = event_C[3:].groupby(['invoice_weeekday'])[['Transaction','Sold']].sum()"
   ]
  },
  {
   "cell_type": "code",
   "execution_count": 178,
   "metadata": {},
   "outputs": [
    {
     "data": {
      "text/plain": [
       "<matplotlib.axes._subplots.AxesSubplot at 0x1cf910d7198>"
      ]
     },
     "execution_count": 178,
     "metadata": {},
     "output_type": "execute_result"
    },
    {
     "data": {
      "image/png": "[encoded data removed]",
      "text/plain": [
       "<Figure size 432x288 with 1 Axes>"
      ]
     },
     "metadata": {},
     "output_type": "display_data"
    }
   ],
   "source": [
    "week.reindex(index = ['Sunday','Saturday','Friday','Thursday','Wednesday','Tuesday','Monday']).plot.barh()"
   ]
  },
  {
   "cell_type": "markdown",
   "metadata": {},
   "source": [
    "### Conclusion : \n",
    "1. Thurday the \n",
    "2. 2 tickets sold on once transactions\n",
    "3. More intensified publication and announcement on Thursday, 12-14 PM and 19-21 PM\n",
    "\n",
    "\n",
    "#### other insight :\n",
    "1. Traffic time of transaction <br>\n",
    "2. Payment method  <br>"
   ]
  },
  {
   "cell_type": "code",
   "execution_count": null,
   "metadata": {},
   "outputs": [],
   "source": []
  }
 ],
 "metadata": {
  "kernelspec": {
   "display_name": "Python 3",
   "language": "python",
   "name": "python3"
  },
  "language_info": {
   "codemirror_mode": {
    "name": "ipython",
    "version": 3
   },
   "file_extension": ".py",
   "mimetype": "text/x-python",
   "name": "python",
   "nbconvert_exporter": "python",
   "pygments_lexer": "ipython3",
   "version": "3.7.1"
  }
 },
 "nbformat": 4,
 "nbformat_minor": 2
}
