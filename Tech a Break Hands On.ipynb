{
 "cells": [
  {
   "cell_type": "code",
   "execution_count": 226,
   "metadata": {},
   "outputs": [],
   "source": [
    "import pandas as pd\n",
    "import matplotlib.pyplot as plt\n",
    "%matplotlib inline"
   ]
  },
  {
   "cell_type": "code",
   "execution_count": 227,
   "metadata": {},
   "outputs": [],
   "source": [
    "#display maximum column and rows\n",
    "pd.options.display.max_columns = 999\n",
    "pd.options.display.max_rows = 999"
   ]
  },
  {
   "cell_type": "code",
   "execution_count": 228,
   "metadata": {},
   "outputs": [],
   "source": [
    "#df = pd.read_clipboardcsv(\"hands_on_data.csv\").drop(columns=['organization_email','event_name'])\n",
    "df = pd.read_excel(\"hands_on.xlsx\", sheet_name='Sheet1')"
   ]
  },
  {
   "cell_type": "code",
   "execution_count": 229,
   "metadata": {},
   "outputs": [
    {
     "data": {
      "text/html": [
       "<div>\n",
       "<style scoped>\n",
       "    .dataframe tbody tr th:only-of-type {\n",
       "        vertical-align: middle;\n",
       "    }\n",
       "\n",
       "    .dataframe tbody tr th {\n",
       "        vertical-align: top;\n",
       "    }\n",
       "\n",
       "    .dataframe thead th {\n",
       "        text-align: right;\n",
       "    }\n",
       "</style>\n",
       "<table border=\"1\" class=\"dataframe\">\n",
       "  <thead>\n",
       "    <tr style=\"text-align: right;\">\n",
       "      <th></th>\n",
       "      <th>id_event</th>\n",
       "      <th>invoice_date</th>\n",
       "      <th>Sold</th>\n",
       "      <th>Transaction</th>\n",
       "      <th>event_start_date</th>\n",
       "      <th>event_end_date</th>\n",
       "      <th>status_event</th>\n",
       "      <th>Ratio</th>\n",
       "    </tr>\n",
       "  </thead>\n",
       "  <tbody>\n",
       "    <tr>\n",
       "      <th>0</th>\n",
       "      <td>5016</td>\n",
       "      <td>2018-09-10</td>\n",
       "      <td>2555</td>\n",
       "      <td>2555.0</td>\n",
       "      <td>2018-12-09</td>\n",
       "      <td>2018-12-09</td>\n",
       "      <td>Past Event</td>\n",
       "      <td>0.174224</td>\n",
       "    </tr>\n",
       "    <tr>\n",
       "      <th>1</th>\n",
       "      <td>5016</td>\n",
       "      <td>2018-09-11</td>\n",
       "      <td>2308</td>\n",
       "      <td>2308.0</td>\n",
       "      <td>2018-12-09</td>\n",
       "      <td>2018-12-09</td>\n",
       "      <td>Past Event</td>\n",
       "      <td>0.157382</td>\n",
       "    </tr>\n",
       "    <tr>\n",
       "      <th>2</th>\n",
       "      <td>5016</td>\n",
       "      <td>2018-09-12</td>\n",
       "      <td>1328</td>\n",
       "      <td>780.0</td>\n",
       "      <td>2018-12-09</td>\n",
       "      <td>2018-12-09</td>\n",
       "      <td>Past Event</td>\n",
       "      <td>0.090556</td>\n",
       "    </tr>\n",
       "    <tr>\n",
       "      <th>3</th>\n",
       "      <td>5016</td>\n",
       "      <td>2018-09-13</td>\n",
       "      <td>1290</td>\n",
       "      <td>306.0</td>\n",
       "      <td>2018-12-09</td>\n",
       "      <td>2018-12-09</td>\n",
       "      <td>Past Event</td>\n",
       "      <td>0.087965</td>\n",
       "    </tr>\n",
       "    <tr>\n",
       "      <th>4</th>\n",
       "      <td>5016</td>\n",
       "      <td>2018-09-14</td>\n",
       "      <td>1176</td>\n",
       "      <td>204.0</td>\n",
       "      <td>2018-12-09</td>\n",
       "      <td>2018-12-09</td>\n",
       "      <td>Past Event</td>\n",
       "      <td>0.080191</td>\n",
       "    </tr>\n",
       "  </tbody>\n",
       "</table>\n",
       "</div>"
      ],
      "text/plain": [
       "   id_event invoice_date  Sold  Transaction event_start_date event_end_date  \\\n",
       "0      5016   2018-09-10  2555       2555.0       2018-12-09     2018-12-09   \n",
       "1      5016   2018-09-11  2308       2308.0       2018-12-09     2018-12-09   \n",
       "2      5016   2018-09-12  1328        780.0       2018-12-09     2018-12-09   \n",
       "3      5016   2018-09-13  1290        306.0       2018-12-09     2018-12-09   \n",
       "4      5016   2018-09-14  1176        204.0       2018-12-09     2018-12-09   \n",
       "\n",
       "  status_event     Ratio  \n",
       "0   Past Event  0.174224  \n",
       "1   Past Event  0.157382  \n",
       "2   Past Event  0.090556  \n",
       "3   Past Event  0.087965  \n",
       "4   Past Event  0.080191  "
      ]
     },
     "execution_count": 229,
     "metadata": {},
     "output_type": "execute_result"
    }
   ],
   "source": [
    "df.head()"
   ]
  },
  {
   "cell_type": "code",
   "execution_count": 230,
   "metadata": {},
   "outputs": [
    {
     "name": "stdout",
     "output_type": "stream",
     "text": [
      "<class 'pandas.core.frame.DataFrame'>\n",
      "RangeIndex: 210 entries, 0 to 209\n",
      "Data columns (total 8 columns):\n",
      "id_event            210 non-null int64\n",
      "invoice_date        210 non-null datetime64[ns]\n",
      "Sold                210 non-null int64\n",
      "Transaction         210 non-null float64\n",
      "event_start_date    210 non-null datetime64[ns]\n",
      "event_end_date      210 non-null datetime64[ns]\n",
      "status_event        210 non-null object\n",
      "Ratio               210 non-null float64\n",
      "dtypes: datetime64[ns](3), float64(2), int64(2), object(1)\n",
      "memory usage: 13.2+ KB\n"
     ]
    }
   ],
   "source": [
    "#check the data type\n",
    "df.info()"
   ]
  },
  {
   "cell_type": "code",
   "execution_count": 231,
   "metadata": {},
   "outputs": [
    {
     "data": {
      "text/html": [
       "<div>\n",
       "<style scoped>\n",
       "    .dataframe tbody tr th:only-of-type {\n",
       "        vertical-align: middle;\n",
       "    }\n",
       "\n",
       "    .dataframe tbody tr th {\n",
       "        vertical-align: top;\n",
       "    }\n",
       "\n",
       "    .dataframe thead th {\n",
       "        text-align: right;\n",
       "    }\n",
       "</style>\n",
       "<table border=\"1\" class=\"dataframe\">\n",
       "  <thead>\n",
       "    <tr style=\"text-align: right;\">\n",
       "      <th></th>\n",
       "      <th>id_event</th>\n",
       "      <th>invoice_date</th>\n",
       "      <th>Sold</th>\n",
       "      <th>Transaction</th>\n",
       "      <th>event_start_date</th>\n",
       "      <th>event_end_date</th>\n",
       "      <th>status_event</th>\n",
       "      <th>Ratio</th>\n",
       "    </tr>\n",
       "  </thead>\n",
       "  <tbody>\n",
       "    <tr>\n",
       "      <th>0</th>\n",
       "      <td>5016</td>\n",
       "      <td>2018-09-10</td>\n",
       "      <td>2555</td>\n",
       "      <td>2555.0</td>\n",
       "      <td>2018-12-09</td>\n",
       "      <td>2018-12-09</td>\n",
       "      <td>Past Event</td>\n",
       "      <td>0.174224</td>\n",
       "    </tr>\n",
       "    <tr>\n",
       "      <th>1</th>\n",
       "      <td>5016</td>\n",
       "      <td>2018-09-11</td>\n",
       "      <td>2308</td>\n",
       "      <td>2308.0</td>\n",
       "      <td>2018-12-09</td>\n",
       "      <td>2018-12-09</td>\n",
       "      <td>Past Event</td>\n",
       "      <td>0.157382</td>\n",
       "    </tr>\n",
       "    <tr>\n",
       "      <th>2</th>\n",
       "      <td>5016</td>\n",
       "      <td>2018-09-12</td>\n",
       "      <td>1328</td>\n",
       "      <td>780.0</td>\n",
       "      <td>2018-12-09</td>\n",
       "      <td>2018-12-09</td>\n",
       "      <td>Past Event</td>\n",
       "      <td>0.090556</td>\n",
       "    </tr>\n",
       "    <tr>\n",
       "      <th>3</th>\n",
       "      <td>5016</td>\n",
       "      <td>2018-09-13</td>\n",
       "      <td>1290</td>\n",
       "      <td>306.0</td>\n",
       "      <td>2018-12-09</td>\n",
       "      <td>2018-12-09</td>\n",
       "      <td>Past Event</td>\n",
       "      <td>0.087965</td>\n",
       "    </tr>\n",
       "    <tr>\n",
       "      <th>4</th>\n",
       "      <td>5016</td>\n",
       "      <td>2018-09-14</td>\n",
       "      <td>1176</td>\n",
       "      <td>204.0</td>\n",
       "      <td>2018-12-09</td>\n",
       "      <td>2018-12-09</td>\n",
       "      <td>Past Event</td>\n",
       "      <td>0.080191</td>\n",
       "    </tr>\n",
       "  </tbody>\n",
       "</table>\n",
       "</div>"
      ],
      "text/plain": [
       "   id_event invoice_date  Sold  Transaction event_start_date event_end_date  \\\n",
       "0      5016   2018-09-10  2555       2555.0       2018-12-09     2018-12-09   \n",
       "1      5016   2018-09-11  2308       2308.0       2018-12-09     2018-12-09   \n",
       "2      5016   2018-09-12  1328        780.0       2018-12-09     2018-12-09   \n",
       "3      5016   2018-09-13  1290        306.0       2018-12-09     2018-12-09   \n",
       "4      5016   2018-09-14  1176        204.0       2018-12-09     2018-12-09   \n",
       "\n",
       "  status_event     Ratio  \n",
       "0   Past Event  0.174224  \n",
       "1   Past Event  0.157382  \n",
       "2   Past Event  0.090556  \n",
       "3   Past Event  0.087965  \n",
       "4   Past Event  0.080191  "
      ]
     },
     "execution_count": 231,
     "metadata": {},
     "output_type": "execute_result"
    }
   ],
   "source": [
    "#check the data\n",
    "df.head()"
   ]
  },
  {
   "cell_type": "code",
   "execution_count": 232,
   "metadata": {},
   "outputs": [
    {
     "data": {
      "text/plain": [
       "status_event\n",
       "Active Event          [21450]\n",
       "Past Event      [5016, 11179]\n",
       "Name: id_event, dtype: object"
      ]
     },
     "execution_count": 232,
     "metadata": {},
     "output_type": "execute_result"
    }
   ],
   "source": [
    "#check categorical type\n",
    "df.groupby('status_event')['id_event'].unique()"
   ]
  },
  {
   "cell_type": "code",
   "execution_count": 233,
   "metadata": {},
   "outputs": [],
   "source": [
    "# Extract event needed\n",
    "event_A = df[df.id_event == 5016].reset_index()\n",
    "event_B = df[df.id_event == 11179].reset_index()\n",
    "event_C = df[df.id_event == 21450].reset_index()"
   ]
  },
  {
   "cell_type": "code",
   "execution_count": 234,
   "metadata": {},
   "outputs": [
    {
     "data": {
      "text/plain": [
       "Text(0, 0.5, 'Ratio')"
      ]
     },
     "execution_count": 234,
     "metadata": {},
     "output_type": "execute_result"
    },
    {
     "data": {
      "image/png": "[encoded data removed]",
      "text/plain": [
       "<Figure size 432x288 with 1 Axes>"
      ]
     },
     "metadata": {
      "needs_background": "light"
     },
     "output_type": "display_data"
    }
   ],
   "source": [
    "event_A.Ratio.plot.line(title='Event A Sales Ratio')\n",
    "plt.xlabel('Day')\n",
    "plt.ylabel('Ratio')"
   ]
  },
  {
   "cell_type": "code",
   "execution_count": 235,
   "metadata": {},
   "outputs": [
    {
     "data": {
      "text/plain": [
       "Text(0, 0.5, 'Ratio')"
      ]
     },
     "execution_count": 235,
     "metadata": {},
     "output_type": "execute_result"
    },
    {
     "data": {
      "image/png": "[encoded data removed]",
      "text/plain": [
       "<Figure size 432x288 with 1 Axes>"
      ]
     },
     "metadata": {
      "needs_background": "light"
     },
     "output_type": "display_data"
    }
   ],
   "source": [
    "event_B.Ratio.plot.line(title='Event B Sales Ratio')\n",
    "plt.xlabel('Day')\n",
    "plt.ylabel('Ratio')"
   ]
  },
  {
   "cell_type": "code",
   "execution_count": 236,
   "metadata": {},
   "outputs": [
    {
     "data": {
      "text/plain": [
       "Text(0, 0.5, 'Ratio')"
      ]
     },
     "execution_count": 236,
     "metadata": {},
     "output_type": "execute_result"
    },
    {
     "data": {
      "image/png": "[encoded data removed]",
      "text/plain": [
       "<Figure size 432x288 with 1 Axes>"
      ]
     },
     "metadata": {
      "needs_background": "light"
     },
     "output_type": "display_data"
    }
   ],
   "source": [
    "event_C.Ratio.plot.line(title='Event C Current Sales Ratio' )\n",
    "plt.xlabel('Day')\n",
    "plt.ylabel('Ratio')"
   ]
  },
  {
   "cell_type": "code",
   "execution_count": null,
   "metadata": {},
   "outputs": [],
   "source": []
  },
  {
   "cell_type": "code",
   "execution_count": null,
   "metadata": {},
   "outputs": [],
   "source": []
  },
  {
   "cell_type": "code",
   "execution_count": null,
   "metadata": {},
   "outputs": [],
   "source": []
  }
 ],
 "metadata": {
  "kernelspec": {
   "display_name": "Python 3",
   "language": "python",
   "name": "python3"
  },
  "language_info": {
   "codemirror_mode": {
    "name": "ipython",
    "version": 3
   },
   "file_extension": ".py",
   "mimetype": "text/x-python",
   "name": "python",
   "nbconvert_exporter": "python",
   "pygments_lexer": "ipython3",
   "version": "3.7.1"
  }
 },
 "nbformat": 4,
 "nbformat_minor": 2
}
